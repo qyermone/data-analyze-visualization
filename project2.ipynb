{
 "cells": [
  {
   "cell_type": "code",
   "execution_count": 2,
   "id": "15ca5440",
   "metadata": {},
   "outputs": [],
   "source": [
    "df = pd.read_csv('final2.csv')"
   ]
  },
  {
   "cell_type": "code",
   "execution_count": 3,
   "id": "d56de0a5",
   "metadata": {},
   "outputs": [
    {
     "data": {
      "text/html": [
       "<div>\n",
       "<style scoped>\n",
       "    .dataframe tbody tr th:only-of-type {\n",
       "        vertical-align: middle;\n",
       "    }\n",
       "\n",
       "    .dataframe tbody tr th {\n",
       "        vertical-align: top;\n",
       "    }\n",
       "\n",
       "    .dataframe thead th {\n",
       "        text-align: right;\n",
       "    }\n",
       "</style>\n",
       "<table border=\"1\" class=\"dataframe\">\n",
       "  <thead>\n",
       "    <tr style=\"text-align: right;\">\n",
       "      <th></th>\n",
       "      <th>Employee_Name</th>\n",
       "      <th>EmpID</th>\n",
       "      <th>MarriedID</th>\n",
       "      <th>MaritalStatusID</th>\n",
       "      <th>GenderID</th>\n",
       "      <th>EmpStatusID</th>\n",
       "      <th>DeptID</th>\n",
       "      <th>PerfScoreID</th>\n",
       "      <th>FromDiversityJobFairID</th>\n",
       "      <th>Salary</th>\n",
       "      <th>...</th>\n",
       "      <th>ManagerName</th>\n",
       "      <th>ManagerID</th>\n",
       "      <th>RecruitmentSource</th>\n",
       "      <th>PerformanceScore</th>\n",
       "      <th>EngagementSurvey</th>\n",
       "      <th>EmpSatisfaction</th>\n",
       "      <th>SpecialProjectsCount</th>\n",
       "      <th>LastPerformanceReview_Date</th>\n",
       "      <th>DaysLateLast30</th>\n",
       "      <th>Absences</th>\n",
       "    </tr>\n",
       "  </thead>\n",
       "  <tbody>\n",
       "    <tr>\n",
       "      <th>0</th>\n",
       "      <td>Adinolfi, Wilson  K</td>\n",
       "      <td>10026</td>\n",
       "      <td>0</td>\n",
       "      <td>0</td>\n",
       "      <td>1</td>\n",
       "      <td>1</td>\n",
       "      <td>5</td>\n",
       "      <td>4</td>\n",
       "      <td>0</td>\n",
       "      <td>62506</td>\n",
       "      <td>...</td>\n",
       "      <td>Michael Albert</td>\n",
       "      <td>22.0</td>\n",
       "      <td>LinkedIn</td>\n",
       "      <td>Exceeds</td>\n",
       "      <td>4.60</td>\n",
       "      <td>5</td>\n",
       "      <td>0</td>\n",
       "      <td>1/17/2019</td>\n",
       "      <td>0</td>\n",
       "      <td>1</td>\n",
       "    </tr>\n",
       "    <tr>\n",
       "      <th>1</th>\n",
       "      <td>Ait Sidi, Karthikeyan</td>\n",
       "      <td>10084</td>\n",
       "      <td>1</td>\n",
       "      <td>1</td>\n",
       "      <td>1</td>\n",
       "      <td>5</td>\n",
       "      <td>3</td>\n",
       "      <td>3</td>\n",
       "      <td>0</td>\n",
       "      <td>104437</td>\n",
       "      <td>...</td>\n",
       "      <td>Simon Roup</td>\n",
       "      <td>4.0</td>\n",
       "      <td>Indeed</td>\n",
       "      <td>Fully Meets</td>\n",
       "      <td>4.96</td>\n",
       "      <td>3</td>\n",
       "      <td>6</td>\n",
       "      <td>2/24/2016</td>\n",
       "      <td>0</td>\n",
       "      <td>17</td>\n",
       "    </tr>\n",
       "    <tr>\n",
       "      <th>2</th>\n",
       "      <td>Akinkuolie, Sarah</td>\n",
       "      <td>10196</td>\n",
       "      <td>1</td>\n",
       "      <td>1</td>\n",
       "      <td>0</td>\n",
       "      <td>5</td>\n",
       "      <td>5</td>\n",
       "      <td>3</td>\n",
       "      <td>0</td>\n",
       "      <td>64955</td>\n",
       "      <td>...</td>\n",
       "      <td>Kissy Sullivan</td>\n",
       "      <td>20.0</td>\n",
       "      <td>LinkedIn</td>\n",
       "      <td>Fully Meets</td>\n",
       "      <td>3.02</td>\n",
       "      <td>3</td>\n",
       "      <td>0</td>\n",
       "      <td>5/15/2012</td>\n",
       "      <td>0</td>\n",
       "      <td>3</td>\n",
       "    </tr>\n",
       "    <tr>\n",
       "      <th>3</th>\n",
       "      <td>Alagbe,Trina</td>\n",
       "      <td>10088</td>\n",
       "      <td>1</td>\n",
       "      <td>1</td>\n",
       "      <td>0</td>\n",
       "      <td>1</td>\n",
       "      <td>5</td>\n",
       "      <td>3</td>\n",
       "      <td>0</td>\n",
       "      <td>64991</td>\n",
       "      <td>...</td>\n",
       "      <td>Elijiah Gray</td>\n",
       "      <td>16.0</td>\n",
       "      <td>Indeed</td>\n",
       "      <td>Fully Meets</td>\n",
       "      <td>4.84</td>\n",
       "      <td>5</td>\n",
       "      <td>0</td>\n",
       "      <td>1/3/2019</td>\n",
       "      <td>0</td>\n",
       "      <td>15</td>\n",
       "    </tr>\n",
       "    <tr>\n",
       "      <th>4</th>\n",
       "      <td>Anderson, Carol</td>\n",
       "      <td>10069</td>\n",
       "      <td>0</td>\n",
       "      <td>2</td>\n",
       "      <td>0</td>\n",
       "      <td>5</td>\n",
       "      <td>5</td>\n",
       "      <td>3</td>\n",
       "      <td>0</td>\n",
       "      <td>50825</td>\n",
       "      <td>...</td>\n",
       "      <td>Webster Butler</td>\n",
       "      <td>39.0</td>\n",
       "      <td>Google Search</td>\n",
       "      <td>Fully Meets</td>\n",
       "      <td>5.00</td>\n",
       "      <td>4</td>\n",
       "      <td>0</td>\n",
       "      <td>2/1/2016</td>\n",
       "      <td>0</td>\n",
       "      <td>2</td>\n",
       "    </tr>\n",
       "  </tbody>\n",
       "</table>\n",
       "<p>5 rows × 36 columns</p>\n",
       "</div>"
      ],
      "text/plain": [
       "              Employee_Name  EmpID  MarriedID  MaritalStatusID  GenderID  \\\n",
       "0       Adinolfi, Wilson  K  10026          0                0         1   \n",
       "1  Ait Sidi, Karthikeyan     10084          1                1         1   \n",
       "2         Akinkuolie, Sarah  10196          1                1         0   \n",
       "3              Alagbe,Trina  10088          1                1         0   \n",
       "4          Anderson, Carol   10069          0                2         0   \n",
       "\n",
       "   EmpStatusID  DeptID  PerfScoreID  FromDiversityJobFairID  Salary  ...  \\\n",
       "0            1       5            4                       0   62506  ...   \n",
       "1            5       3            3                       0  104437  ...   \n",
       "2            5       5            3                       0   64955  ...   \n",
       "3            1       5            3                       0   64991  ...   \n",
       "4            5       5            3                       0   50825  ...   \n",
       "\n",
       "      ManagerName  ManagerID RecruitmentSource PerformanceScore  \\\n",
       "0  Michael Albert       22.0          LinkedIn          Exceeds   \n",
       "1      Simon Roup        4.0            Indeed      Fully Meets   \n",
       "2  Kissy Sullivan       20.0          LinkedIn      Fully Meets   \n",
       "3    Elijiah Gray       16.0            Indeed      Fully Meets   \n",
       "4  Webster Butler       39.0     Google Search      Fully Meets   \n",
       "\n",
       "   EngagementSurvey EmpSatisfaction SpecialProjectsCount  \\\n",
       "0              4.60               5                    0   \n",
       "1              4.96               3                    6   \n",
       "2              3.02               3                    0   \n",
       "3              4.84               5                    0   \n",
       "4              5.00               4                    0   \n",
       "\n",
       "  LastPerformanceReview_Date DaysLateLast30 Absences  \n",
       "0                  1/17/2019              0        1  \n",
       "1                  2/24/2016              0       17  \n",
       "2                  5/15/2012              0        3  \n",
       "3                   1/3/2019              0       15  \n",
       "4                   2/1/2016              0        2  \n",
       "\n",
       "[5 rows x 36 columns]"
      ]
     },
     "execution_count": 3,
     "metadata": {},
     "output_type": "execute_result"
    }
   ],
   "source": [
    "df.head()"
   ]
  },
  {
   "cell_type": "code",
   "execution_count": 4,
   "id": "39e1ac96",
   "metadata": {},
   "outputs": [
    {
     "data": {
      "text/plain": [
       "(311, 36)"
      ]
     },
     "execution_count": 4,
     "metadata": {},
     "output_type": "execute_result"
    }
   ],
   "source": [
    "df.shape"
   ]
  },
  {
   "cell_type": "code",
   "execution_count": 5,
   "id": "fcaf5877",
   "metadata": {},
   "outputs": [
    {
     "data": {
      "text/plain": [
       "Index(['Employee_Name', 'EmpID', 'MarriedID', 'MaritalStatusID', 'GenderID',\n",
       "       'EmpStatusID', 'DeptID', 'PerfScoreID', 'FromDiversityJobFairID',\n",
       "       'Salary', 'Termd', 'PositionID', 'Position', 'State', 'Zip', 'DOB',\n",
       "       'Sex', 'MaritalDesc', 'CitizenDesc', 'HispanicLatino', 'RaceDesc',\n",
       "       'DateofHire', 'DateofTermination', 'TermReason', 'EmploymentStatus',\n",
       "       'Department', 'ManagerName', 'ManagerID', 'RecruitmentSource',\n",
       "       'PerformanceScore', 'EngagementSurvey', 'EmpSatisfaction',\n",
       "       'SpecialProjectsCount', 'LastPerformanceReview_Date', 'DaysLateLast30',\n",
       "       'Absences'],\n",
       "      dtype='object')"
      ]
     },
     "execution_count": 5,
     "metadata": {},
     "output_type": "execute_result"
    }
   ],
   "source": [
    "df.columns"
   ]
  },
  {
   "cell_type": "code",
   "execution_count": 6,
   "id": "3f38ba5c",
   "metadata": {},
   "outputs": [],
   "source": [
    "df = df[['Employee_Name',\n",
    "       'Salary', 'Position',\n",
    "       'Sex', 'MaritalDesc',\n",
    "       'DateofHire', 'DateofTermination', 'TermReason', 'EmploymentStatus',\n",
    "       'Department', 'RecruitmentSource',\n",
    "       'PerformanceScore', 'EmpSatisfaction', 'DaysLateLast30']]"
   ]
  },
  {
   "cell_type": "code",
   "execution_count": 7,
   "id": "f4d723d5",
   "metadata": {},
   "outputs": [
    {
     "data": {
      "text/html": [
       "<div>\n",
       "<style scoped>\n",
       "    .dataframe tbody tr th:only-of-type {\n",
       "        vertical-align: middle;\n",
       "    }\n",
       "\n",
       "    .dataframe tbody tr th {\n",
       "        vertical-align: top;\n",
       "    }\n",
       "\n",
       "    .dataframe thead th {\n",
       "        text-align: right;\n",
       "    }\n",
       "</style>\n",
       "<table border=\"1\" class=\"dataframe\">\n",
       "  <thead>\n",
       "    <tr style=\"text-align: right;\">\n",
       "      <th></th>\n",
       "      <th>Employee_Name</th>\n",
       "      <th>Salary</th>\n",
       "      <th>Position</th>\n",
       "      <th>Sex</th>\n",
       "      <th>MaritalDesc</th>\n",
       "      <th>DateofHire</th>\n",
       "      <th>DateofTermination</th>\n",
       "      <th>TermReason</th>\n",
       "      <th>EmploymentStatus</th>\n",
       "      <th>Department</th>\n",
       "      <th>RecruitmentSource</th>\n",
       "      <th>PerformanceScore</th>\n",
       "      <th>EmpSatisfaction</th>\n",
       "      <th>DaysLateLast30</th>\n",
       "    </tr>\n",
       "  </thead>\n",
       "  <tbody>\n",
       "    <tr>\n",
       "      <th>0</th>\n",
       "      <td>Adinolfi, Wilson  K</td>\n",
       "      <td>62506</td>\n",
       "      <td>Production Technician I</td>\n",
       "      <td>M</td>\n",
       "      <td>Single</td>\n",
       "      <td>7/5/2011</td>\n",
       "      <td>NaN</td>\n",
       "      <td>N/A-StillEmployed</td>\n",
       "      <td>Active</td>\n",
       "      <td>Production</td>\n",
       "      <td>LinkedIn</td>\n",
       "      <td>Exceeds</td>\n",
       "      <td>5</td>\n",
       "      <td>0</td>\n",
       "    </tr>\n",
       "    <tr>\n",
       "      <th>1</th>\n",
       "      <td>Ait Sidi, Karthikeyan</td>\n",
       "      <td>104437</td>\n",
       "      <td>Sr. DBA</td>\n",
       "      <td>M</td>\n",
       "      <td>Married</td>\n",
       "      <td>3/30/2015</td>\n",
       "      <td>6/16/2016</td>\n",
       "      <td>career change</td>\n",
       "      <td>Voluntarily Terminated</td>\n",
       "      <td>IT/IS</td>\n",
       "      <td>Indeed</td>\n",
       "      <td>Fully Meets</td>\n",
       "      <td>3</td>\n",
       "      <td>0</td>\n",
       "    </tr>\n",
       "    <tr>\n",
       "      <th>2</th>\n",
       "      <td>Akinkuolie, Sarah</td>\n",
       "      <td>64955</td>\n",
       "      <td>Production Technician II</td>\n",
       "      <td>F</td>\n",
       "      <td>Married</td>\n",
       "      <td>7/5/2011</td>\n",
       "      <td>9/24/2012</td>\n",
       "      <td>hours</td>\n",
       "      <td>Voluntarily Terminated</td>\n",
       "      <td>Production</td>\n",
       "      <td>LinkedIn</td>\n",
       "      <td>Fully Meets</td>\n",
       "      <td>3</td>\n",
       "      <td>0</td>\n",
       "    </tr>\n",
       "    <tr>\n",
       "      <th>3</th>\n",
       "      <td>Alagbe,Trina</td>\n",
       "      <td>64991</td>\n",
       "      <td>Production Technician I</td>\n",
       "      <td>F</td>\n",
       "      <td>Married</td>\n",
       "      <td>1/7/2008</td>\n",
       "      <td>NaN</td>\n",
       "      <td>N/A-StillEmployed</td>\n",
       "      <td>Active</td>\n",
       "      <td>Production</td>\n",
       "      <td>Indeed</td>\n",
       "      <td>Fully Meets</td>\n",
       "      <td>5</td>\n",
       "      <td>0</td>\n",
       "    </tr>\n",
       "    <tr>\n",
       "      <th>4</th>\n",
       "      <td>Anderson, Carol</td>\n",
       "      <td>50825</td>\n",
       "      <td>Production Technician I</td>\n",
       "      <td>F</td>\n",
       "      <td>Divorced</td>\n",
       "      <td>7/11/2011</td>\n",
       "      <td>9/6/2016</td>\n",
       "      <td>return to school</td>\n",
       "      <td>Voluntarily Terminated</td>\n",
       "      <td>Production</td>\n",
       "      <td>Google Search</td>\n",
       "      <td>Fully Meets</td>\n",
       "      <td>4</td>\n",
       "      <td>0</td>\n",
       "    </tr>\n",
       "    <tr>\n",
       "      <th>...</th>\n",
       "      <td>...</td>\n",
       "      <td>...</td>\n",
       "      <td>...</td>\n",
       "      <td>...</td>\n",
       "      <td>...</td>\n",
       "      <td>...</td>\n",
       "      <td>...</td>\n",
       "      <td>...</td>\n",
       "      <td>...</td>\n",
       "      <td>...</td>\n",
       "      <td>...</td>\n",
       "      <td>...</td>\n",
       "      <td>...</td>\n",
       "      <td>...</td>\n",
       "    </tr>\n",
       "    <tr>\n",
       "      <th>306</th>\n",
       "      <td>Woodson, Jason</td>\n",
       "      <td>65893</td>\n",
       "      <td>Production Technician II</td>\n",
       "      <td>M</td>\n",
       "      <td>Single</td>\n",
       "      <td>7/7/2014</td>\n",
       "      <td>NaN</td>\n",
       "      <td>N/A-StillEmployed</td>\n",
       "      <td>Active</td>\n",
       "      <td>Production</td>\n",
       "      <td>LinkedIn</td>\n",
       "      <td>Fully Meets</td>\n",
       "      <td>4</td>\n",
       "      <td>0</td>\n",
       "    </tr>\n",
       "    <tr>\n",
       "      <th>307</th>\n",
       "      <td>Ybarra, Catherine</td>\n",
       "      <td>48513</td>\n",
       "      <td>Production Technician I</td>\n",
       "      <td>F</td>\n",
       "      <td>Single</td>\n",
       "      <td>9/2/2008</td>\n",
       "      <td>9/29/2015</td>\n",
       "      <td>Another position</td>\n",
       "      <td>Voluntarily Terminated</td>\n",
       "      <td>Production</td>\n",
       "      <td>Google Search</td>\n",
       "      <td>PIP</td>\n",
       "      <td>2</td>\n",
       "      <td>5</td>\n",
       "    </tr>\n",
       "    <tr>\n",
       "      <th>308</th>\n",
       "      <td>Zamora, Jennifer</td>\n",
       "      <td>220450</td>\n",
       "      <td>CIO</td>\n",
       "      <td>F</td>\n",
       "      <td>Single</td>\n",
       "      <td>4/10/2010</td>\n",
       "      <td>NaN</td>\n",
       "      <td>N/A-StillEmployed</td>\n",
       "      <td>Active</td>\n",
       "      <td>IT/IS</td>\n",
       "      <td>Employee Referral</td>\n",
       "      <td>Exceeds</td>\n",
       "      <td>5</td>\n",
       "      <td>0</td>\n",
       "    </tr>\n",
       "    <tr>\n",
       "      <th>309</th>\n",
       "      <td>Zhou, Julia</td>\n",
       "      <td>89292</td>\n",
       "      <td>Data Analyst</td>\n",
       "      <td>F</td>\n",
       "      <td>Single</td>\n",
       "      <td>3/30/2015</td>\n",
       "      <td>NaN</td>\n",
       "      <td>N/A-StillEmployed</td>\n",
       "      <td>Active</td>\n",
       "      <td>IT/IS</td>\n",
       "      <td>Employee Referral</td>\n",
       "      <td>Fully Meets</td>\n",
       "      <td>3</td>\n",
       "      <td>0</td>\n",
       "    </tr>\n",
       "    <tr>\n",
       "      <th>310</th>\n",
       "      <td>Zima, Colleen</td>\n",
       "      <td>45046</td>\n",
       "      <td>Production Technician I</td>\n",
       "      <td>F</td>\n",
       "      <td>Widowed</td>\n",
       "      <td>9/29/2014</td>\n",
       "      <td>NaN</td>\n",
       "      <td>N/A-StillEmployed</td>\n",
       "      <td>Active</td>\n",
       "      <td>Production</td>\n",
       "      <td>LinkedIn</td>\n",
       "      <td>Fully Meets</td>\n",
       "      <td>5</td>\n",
       "      <td>0</td>\n",
       "    </tr>\n",
       "  </tbody>\n",
       "</table>\n",
       "<p>311 rows × 14 columns</p>\n",
       "</div>"
      ],
      "text/plain": [
       "                Employee_Name  Salary                  Position Sex  \\\n",
       "0         Adinolfi, Wilson  K   62506   Production Technician I  M    \n",
       "1    Ait Sidi, Karthikeyan     104437                   Sr. DBA  M    \n",
       "2           Akinkuolie, Sarah   64955  Production Technician II   F   \n",
       "3                Alagbe,Trina   64991   Production Technician I   F   \n",
       "4            Anderson, Carol    50825   Production Technician I   F   \n",
       "..                        ...     ...                       ...  ..   \n",
       "306            Woodson, Jason   65893  Production Technician II  M    \n",
       "307        Ybarra, Catherine    48513   Production Technician I   F   \n",
       "308          Zamora, Jennifer  220450                       CIO   F   \n",
       "309               Zhou, Julia   89292              Data Analyst   F   \n",
       "310             Zima, Colleen   45046   Production Technician I   F   \n",
       "\n",
       "    MaritalDesc DateofHire DateofTermination         TermReason  \\\n",
       "0        Single   7/5/2011               NaN  N/A-StillEmployed   \n",
       "1       Married  3/30/2015         6/16/2016      career change   \n",
       "2       Married   7/5/2011         9/24/2012              hours   \n",
       "3       Married   1/7/2008               NaN  N/A-StillEmployed   \n",
       "4      Divorced  7/11/2011          9/6/2016   return to school   \n",
       "..          ...        ...               ...                ...   \n",
       "306      Single   7/7/2014               NaN  N/A-StillEmployed   \n",
       "307      Single   9/2/2008         9/29/2015   Another position   \n",
       "308      Single  4/10/2010               NaN  N/A-StillEmployed   \n",
       "309      Single  3/30/2015               NaN  N/A-StillEmployed   \n",
       "310     Widowed  9/29/2014               NaN  N/A-StillEmployed   \n",
       "\n",
       "           EmploymentStatus         Department  RecruitmentSource  \\\n",
       "0                    Active  Production                  LinkedIn   \n",
       "1    Voluntarily Terminated              IT/IS             Indeed   \n",
       "2    Voluntarily Terminated  Production                  LinkedIn   \n",
       "3                    Active  Production                    Indeed   \n",
       "4    Voluntarily Terminated  Production             Google Search   \n",
       "..                      ...                ...                ...   \n",
       "306                  Active  Production                  LinkedIn   \n",
       "307  Voluntarily Terminated  Production             Google Search   \n",
       "308                  Active              IT/IS  Employee Referral   \n",
       "309                  Active              IT/IS  Employee Referral   \n",
       "310                  Active  Production                  LinkedIn   \n",
       "\n",
       "    PerformanceScore  EmpSatisfaction  DaysLateLast30  \n",
       "0            Exceeds                5               0  \n",
       "1        Fully Meets                3               0  \n",
       "2        Fully Meets                3               0  \n",
       "3        Fully Meets                5               0  \n",
       "4        Fully Meets                4               0  \n",
       "..               ...              ...             ...  \n",
       "306      Fully Meets                4               0  \n",
       "307              PIP                2               5  \n",
       "308          Exceeds                5               0  \n",
       "309      Fully Meets                3               0  \n",
       "310      Fully Meets                5               0  \n",
       "\n",
       "[311 rows x 14 columns]"
      ]
     },
     "execution_count": 7,
     "metadata": {},
     "output_type": "execute_result"
    }
   ],
   "source": [
    "df"
   ]
  },
  {
   "cell_type": "code",
   "execution_count": 8,
   "id": "d02d1a63",
   "metadata": {},
   "outputs": [
    {
     "data": {
      "text/plain": [
       "(311, 14)"
      ]
     },
     "execution_count": 8,
     "metadata": {},
     "output_type": "execute_result"
    }
   ],
   "source": [
    "df.shape"
   ]
  },
  {
   "cell_type": "code",
   "execution_count": 9,
   "id": "aae6de0d",
   "metadata": {},
   "outputs": [
    {
     "data": {
      "text/plain": [
       "Employee_Name          0\n",
       "Salary                 0\n",
       "Position               0\n",
       "Sex                    0\n",
       "MaritalDesc            0\n",
       "DateofHire             0\n",
       "DateofTermination    207\n",
       "TermReason             0\n",
       "EmploymentStatus       0\n",
       "Department             0\n",
       "RecruitmentSource      0\n",
       "PerformanceScore       0\n",
       "EmpSatisfaction        0\n",
       "DaysLateLast30         0\n",
       "dtype: int64"
      ]
     },
     "execution_count": 9,
     "metadata": {},
     "output_type": "execute_result"
    }
   ],
   "source": [
    "df.isnull().sum()"
   ]
  },
  {
   "cell_type": "code",
   "execution_count": 10,
   "id": "4aaa346a",
   "metadata": {},
   "outputs": [
    {
     "name": "stdout",
     "output_type": "stream",
     "text": [
      "<class 'pandas.core.frame.DataFrame'>\n",
      "RangeIndex: 311 entries, 0 to 310\n",
      "Data columns (total 14 columns):\n",
      " #   Column             Non-Null Count  Dtype \n",
      "---  ------             --------------  ----- \n",
      " 0   Employee_Name      311 non-null    object\n",
      " 1   Salary             311 non-null    int64 \n",
      " 2   Position           311 non-null    object\n",
      " 3   Sex                311 non-null    object\n",
      " 4   MaritalDesc        311 non-null    object\n",
      " 5   DateofHire         311 non-null    object\n",
      " 6   DateofTermination  104 non-null    object\n",
      " 7   TermReason         311 non-null    object\n",
      " 8   EmploymentStatus   311 non-null    object\n",
      " 9   Department         311 non-null    object\n",
      " 10  RecruitmentSource  311 non-null    object\n",
      " 11  PerformanceScore   311 non-null    object\n",
      " 12  EmpSatisfaction    311 non-null    int64 \n",
      " 13  DaysLateLast30     311 non-null    int64 \n",
      "dtypes: int64(3), object(11)\n",
      "memory usage: 34.1+ KB\n"
     ]
    }
   ],
   "source": [
    "df.info()"
   ]
  },
  {
   "cell_type": "code",
   "execution_count": 11,
   "id": "1d4bbddd",
   "metadata": {},
   "outputs": [],
   "source": [
    "df['DateofHire'] = pd.to_datetime(df['DateofHire'])\n",
    "df['DateofTermination'] = pd.to_datetime(df['DateofTermination'])"
   ]
  },
  {
   "cell_type": "code",
   "execution_count": 12,
   "id": "63041f5e",
   "metadata": {},
   "outputs": [
    {
     "name": "stdout",
     "output_type": "stream",
     "text": [
      "<class 'pandas.core.frame.DataFrame'>\n",
      "RangeIndex: 311 entries, 0 to 310\n",
      "Data columns (total 14 columns):\n",
      " #   Column             Non-Null Count  Dtype         \n",
      "---  ------             --------------  -----         \n",
      " 0   Employee_Name      311 non-null    object        \n",
      " 1   Salary             311 non-null    int64         \n",
      " 2   Position           311 non-null    object        \n",
      " 3   Sex                311 non-null    object        \n",
      " 4   MaritalDesc        311 non-null    object        \n",
      " 5   DateofHire         311 non-null    datetime64[ns]\n",
      " 6   DateofTermination  104 non-null    datetime64[ns]\n",
      " 7   TermReason         311 non-null    object        \n",
      " 8   EmploymentStatus   311 non-null    object        \n",
      " 9   Department         311 non-null    object        \n",
      " 10  RecruitmentSource  311 non-null    object        \n",
      " 11  PerformanceScore   311 non-null    object        \n",
      " 12  EmpSatisfaction    311 non-null    int64         \n",
      " 13  DaysLateLast30     311 non-null    int64         \n",
      "dtypes: datetime64[ns](2), int64(3), object(9)\n",
      "memory usage: 34.1+ KB\n"
     ]
    }
   ],
   "source": [
    "df.info()"
   ]
  },
  {
   "cell_type": "code",
   "execution_count": 13,
   "id": "d6d23321",
   "metadata": {},
   "outputs": [
    {
     "data": {
      "text/plain": [
       "['Exceeds', 'Fully Meets', 'Needs Improvement', 'PIP']"
      ]
     },
     "execution_count": 13,
     "metadata": {},
     "output_type": "execute_result"
    }
   ],
   "source": [
    "score = df.PerformanceScore.unique().tolist()\n",
    "score"
   ]
  },
  {
   "cell_type": "code",
   "execution_count": 14,
   "id": "336bd882",
   "metadata": {},
   "outputs": [],
   "source": [
    "df['PerformanceScore'] = df['PerformanceScore'].apply(lambda x: abs(score.index(x) - 4))"
   ]
  },
  {
   "cell_type": "code",
   "execution_count": 15,
   "id": "0164ab08",
   "metadata": {},
   "outputs": [],
   "source": [
    "active_emp = df[df['EmploymentStatus'] == 'Active']"
   ]
  },
  {
   "cell_type": "markdown",
   "id": "6737b301",
   "metadata": {},
   "source": [
    "# CATEGORICAL VARIABLES"
   ]
  },
  {
   "cell_type": "code",
   "execution_count": 16,
   "id": "81f2f393",
   "metadata": {},
   "outputs": [
    {
     "data": {
      "image/png": "[encoded data removed]",
      "text/plain": [
       "<Figure size 432x288 with 1 Axes>"
      ]
     },
     "metadata": {
      "needs_background": "light"
     },
     "output_type": "display_data"
    }
   ],
   "source": [
    "sns.countplot(x='Sex',data=active_emp)\n",
    "plt.show()"
   ]
  },
  {
   "cell_type": "code",
   "execution_count": 17,
   "id": "bfdd943a",
   "metadata": {},
   "outputs": [],
   "source": [
    "maritalStatus = active_emp.MaritalDesc.value_counts()"
   ]
  },
  {
   "cell_type": "code",
   "execution_count": 18,
   "id": "8e5b59a8",
   "metadata": {},
   "outputs": [
    {
     "data": {
      "image/png": "[encoded data removed]",
      "text/plain": [
       "<Figure size 432x288 with 1 Axes>"
      ]
     },
     "metadata": {
      "needs_background": "light"
     },
     "output_type": "display_data"
    }
   ],
   "source": [
    "sns.countplot(x='MaritalDesc', data=active_emp)\n",
    "plt.show()"
   ]
  },
  {
   "cell_type": "code",
   "execution_count": 19,
   "id": "b4a35a32",
   "metadata": {},
   "outputs": [
    {
     "data": {
      "image/png": "[encoded data removed]",
      "text/plain": [
       "<Figure size 720x720 with 1 Axes>"
      ]
     },
     "metadata": {},
     "output_type": "display_data"
    }
   ],
   "source": [
    "fig, ax = plt.subplots(figsize=(10,10))\n",
    "ax.pie(maritalStatus.values, labels=maritalStatus.index, autopct='%1.1f%%')\n",
    "plt.show()"
   ]
  },
  {
   "cell_type": "markdown",
   "id": "0ee7e33e",
   "metadata": {},
   "source": [
    "# NUMERIC VARIABLES"
   ]
  },
  {
   "cell_type": "code",
   "execution_count": 20,
   "id": "2d52e32a",
   "metadata": {},
   "outputs": [
    {
     "data": {
      "image/png": "[encoded data removed]",
      "text/plain": [
       "<Figure size 432x288 with 1 Axes>"
      ]
     },
     "metadata": {
      "needs_background": "light"
     },
     "output_type": "display_data"
    }
   ],
   "source": [
    "sns.countplot(x='EmpSatisfaction', data=active_emp)\n",
    "plt.show()"
   ]
  },
  {
   "cell_type": "code",
   "execution_count": 21,
   "id": "f32bcbd1",
   "metadata": {},
   "outputs": [
    {
     "data": {
      "image/png": "[encoded data removed]",
      "text/plain": [
       "<Figure size 432x288 with 1 Axes>"
      ]
     },
     "metadata": {
      "needs_background": "light"
     },
     "output_type": "display_data"
    }
   ],
   "source": [
    "fig, ax = plt.subplots()\n",
    "ax.boxplot(active_emp['Salary'],0, '')\n",
    "plt.show()"
   ]
  },
  {
   "cell_type": "markdown",
   "id": "8d49977e",
   "metadata": {},
   "source": [
    "# WORK WITH DATE"
   ]
  },
  {
   "cell_type": "code",
   "execution_count": 23,
   "id": "bc5797fd",
   "metadata": {},
   "outputs": [],
   "source": [
    "hire = pd.DatetimeIndex(df['DateofHire']).year.value_counts().sort_values()\n",
    "termination = pd.DatetimeIndex(df['DateofTermination']).year.value_counts().sort_values()"
   ]
  },
  {
   "cell_type": "code",
   "execution_count": 24,
   "id": "633730e7",
   "metadata": {},
   "outputs": [],
   "source": [
    "termination.index = termination.index.astype(int)"
   ]
  },
  {
   "cell_type": "code",
   "execution_count": 25,
   "id": "96300e7f",
   "metadata": {},
   "outputs": [
    {
     "data": {
      "text/plain": [
       "Int64Index([2010, 2011, 2017, 2012, 2013, 2014, 2018, 2016, 2015], dtype='int64')"
      ]
     },
     "execution_count": 25,
     "metadata": {},
     "output_type": "execute_result"
    }
   ],
   "source": [
    "years = termination.index.intersection(hire.index)\n",
    "years"
   ]
  },
  {
   "cell_type": "code",
   "execution_count": 26,
   "id": "e2f22b43",
   "metadata": {},
   "outputs": [
    {
     "data": {
      "image/png": "[encoded data removed]",
      "text/plain": [
       "<Figure size 576x504 with 1 Axes>"
      ]
     },
     "metadata": {
      "needs_background": "light"
     },
     "output_type": "display_data"
    }
   ],
   "source": [
    "fig, ax = plt.subplots(figsize=(8,7))\n",
    "index = np.arange(len(years))\n",
    "ax.bar(index, hire[years].values, 0.35, color='r',\n",
    "                label='hire')\n",
    "plt.bar(index+0.35, termination.values, 0.35, color='b',\n",
    "                label='termination')\n",
    "ax.set_xticks(index + 0.35 / len(years))\n",
    "ax.set_xticklabels(years)\n",
    "ax.legend()\n",
    "plt.show()"
   ]
  },
  {
   "cell_type": "markdown",
   "id": "5a8c8aec",
   "metadata": {},
   "source": [
    "# TWO VARIABLES"
   ]
  },
  {
   "cell_type": "code",
   "execution_count": 27,
   "id": "9d896267",
   "metadata": {},
   "outputs": [],
   "source": [
    "x = active_emp.groupby(['Department'])['PerformanceScore'].mean()"
   ]
  },
  {
   "cell_type": "code",
   "execution_count": 28,
   "id": "0b438eb5",
   "metadata": {},
   "outputs": [],
   "source": [
    "y = active_emp.groupby(['Department'])['Salary'].mean()"
   ]
  },
  {
   "cell_type": "code",
   "execution_count": 29,
   "id": "3efb3a21",
   "metadata": {},
   "outputs": [
    {
     "data": {
      "image/png": "[encoded data removed]",
      "text/plain": [
       "<Figure size 432x288 with 1 Axes>"
      ]
     },
     "metadata": {
      "needs_background": "light"
     },
     "output_type": "display_data"
    }
   ],
   "source": [
    "sns.scatterplot(x=x,y=y,hue=x.index)\n",
    "plt.show()"
   ]
  },
  {
   "cell_type": "code",
   "execution_count": 30,
   "id": "37e92844",
   "metadata": {},
   "outputs": [
    {
     "data": {
      "image/png": "[encoded data removed]",
      "text/plain": [
       "<Figure size 720x360 with 2 Axes>"
      ]
     },
     "metadata": {
      "needs_background": "light"
     },
     "output_type": "display_data"
    }
   ],
   "source": [
    "sns.catplot(x='DaysLateLast30', y='MaritalDesc', data=df, kind='bar', col='Sex', ci=None)\n",
    "plt.show()"
   ]
  },
  {
   "cell_type": "markdown",
   "id": "16052fd4",
   "metadata": {},
   "source": [
    "# GROUPBY AND APPLY"
   ]
  },
  {
   "cell_type": "code",
   "execution_count": 31,
   "id": "2b1594bb",
   "metadata": {},
   "outputs": [],
   "source": [
    "def func(n):\n",
    "    if n >= 4:\n",
    "        return 'Good'\n",
    "    elif n >= 2:\n",
    "        return 'Normal'\n",
    "    else: \n",
    "        return 'Not Bad'"
   ]
  },
  {
   "cell_type": "code",
   "execution_count": 32,
   "id": "16a3a9b0",
   "metadata": {},
   "outputs": [
    {
     "data": {
      "text/html": [
       "<div>\n",
       "<style scoped>\n",
       "    .dataframe tbody tr th:only-of-type {\n",
       "        vertical-align: middle;\n",
       "    }\n",
       "\n",
       "    .dataframe tbody tr th {\n",
       "        vertical-align: top;\n",
       "    }\n",
       "\n",
       "    .dataframe thead th {\n",
       "        text-align: right;\n",
       "    }\n",
       "</style>\n",
       "<table border=\"1\" class=\"dataframe\">\n",
       "  <thead>\n",
       "    <tr style=\"text-align: right;\">\n",
       "      <th></th>\n",
       "      <th>EmpSatisfaction</th>\n",
       "    </tr>\n",
       "    <tr>\n",
       "      <th>Position</th>\n",
       "      <th></th>\n",
       "    </tr>\n",
       "  </thead>\n",
       "  <tbody>\n",
       "    <tr>\n",
       "      <th>Accountant I</th>\n",
       "      <td>Normal</td>\n",
       "    </tr>\n",
       "    <tr>\n",
       "      <th>Administrative Assistant</th>\n",
       "      <td>Normal</td>\n",
       "    </tr>\n",
       "    <tr>\n",
       "      <th>Area Sales Manager</th>\n",
       "      <td>Normal</td>\n",
       "    </tr>\n",
       "    <tr>\n",
       "      <th>BI Developer</th>\n",
       "      <td>Good</td>\n",
       "    </tr>\n",
       "    <tr>\n",
       "      <th>BI Director</th>\n",
       "      <td>Good</td>\n",
       "    </tr>\n",
       "    <tr>\n",
       "      <th>CIO</th>\n",
       "      <td>Good</td>\n",
       "    </tr>\n",
       "    <tr>\n",
       "      <th>Data Analyst</th>\n",
       "      <td>Normal</td>\n",
       "    </tr>\n",
       "    <tr>\n",
       "      <th>Data Architect</th>\n",
       "      <td>Normal</td>\n",
       "    </tr>\n",
       "    <tr>\n",
       "      <th>Database Administrator</th>\n",
       "      <td>Good</td>\n",
       "    </tr>\n",
       "    <tr>\n",
       "      <th>Director of Operations</th>\n",
       "      <td>Good</td>\n",
       "    </tr>\n",
       "    <tr>\n",
       "      <th>Director of Sales</th>\n",
       "      <td>Good</td>\n",
       "    </tr>\n",
       "    <tr>\n",
       "      <th>IT Director</th>\n",
       "      <td>Good</td>\n",
       "    </tr>\n",
       "    <tr>\n",
       "      <th>IT Manager - DB</th>\n",
       "      <td>Good</td>\n",
       "    </tr>\n",
       "    <tr>\n",
       "      <th>IT Manager - Infra</th>\n",
       "      <td>Normal</td>\n",
       "    </tr>\n",
       "    <tr>\n",
       "      <th>IT Manager - Support</th>\n",
       "      <td>Good</td>\n",
       "    </tr>\n",
       "    <tr>\n",
       "      <th>IT Support</th>\n",
       "      <td>Good</td>\n",
       "    </tr>\n",
       "    <tr>\n",
       "      <th>Network Engineer</th>\n",
       "      <td>Normal</td>\n",
       "    </tr>\n",
       "    <tr>\n",
       "      <th>President &amp; CEO</th>\n",
       "      <td>Normal</td>\n",
       "    </tr>\n",
       "    <tr>\n",
       "      <th>Production Manager</th>\n",
       "      <td>Normal</td>\n",
       "    </tr>\n",
       "    <tr>\n",
       "      <th>Production Technician I</th>\n",
       "      <td>Normal</td>\n",
       "    </tr>\n",
       "    <tr>\n",
       "      <th>Production Technician II</th>\n",
       "      <td>Normal</td>\n",
       "    </tr>\n",
       "    <tr>\n",
       "      <th>Sales Manager</th>\n",
       "      <td>Good</td>\n",
       "    </tr>\n",
       "    <tr>\n",
       "      <th>Senior BI Developer</th>\n",
       "      <td>Good</td>\n",
       "    </tr>\n",
       "    <tr>\n",
       "      <th>Shared Services Manager</th>\n",
       "      <td>Good</td>\n",
       "    </tr>\n",
       "    <tr>\n",
       "      <th>Software Engineer</th>\n",
       "      <td>Good</td>\n",
       "    </tr>\n",
       "    <tr>\n",
       "      <th>Software Engineering Manager</th>\n",
       "      <td>Normal</td>\n",
       "    </tr>\n",
       "    <tr>\n",
       "      <th>Sr. Accountant</th>\n",
       "      <td>Normal</td>\n",
       "    </tr>\n",
       "    <tr>\n",
       "      <th>Sr. DBA</th>\n",
       "      <td>Good</td>\n",
       "    </tr>\n",
       "    <tr>\n",
       "      <th>Sr. Network Engineer</th>\n",
       "      <td>Good</td>\n",
       "    </tr>\n",
       "  </tbody>\n",
       "</table>\n",
       "</div>"
      ],
      "text/plain": [
       "                             EmpSatisfaction\n",
       "Position                                    \n",
       "Accountant I                          Normal\n",
       "Administrative Assistant              Normal\n",
       "Area Sales Manager                    Normal\n",
       "BI Developer                            Good\n",
       "BI Director                             Good\n",
       "CIO                                     Good\n",
       "Data Analyst                          Normal\n",
       "Data Architect                        Normal\n",
       "Database Administrator                  Good\n",
       "Director of Operations                  Good\n",
       "Director of Sales                       Good\n",
       "IT Director                             Good\n",
       "IT Manager - DB                         Good\n",
       "IT Manager - Infra                    Normal\n",
       "IT Manager - Support                    Good\n",
       "IT Support                              Good\n",
       "Network Engineer                      Normal\n",
       "President & CEO                       Normal\n",
       "Production Manager                    Normal\n",
       "Production Technician I               Normal\n",
       "Production Technician II              Normal\n",
       "Sales Manager                           Good\n",
       "Senior BI Developer                     Good\n",
       "Shared Services Manager                 Good\n",
       "Software Engineer                       Good\n",
       "Software Engineering Manager          Normal\n",
       "Sr. Accountant                        Normal\n",
       "Sr. DBA                                 Good\n",
       "Sr. Network Engineer                    Good"
      ]
     },
     "execution_count": 32,
     "metadata": {},
     "output_type": "execute_result"
    }
   ],
   "source": [
    "pd.DataFrame(active_emp.groupby('Position')['EmpSatisfaction'].mean().apply(func))"
   ]
  },
  {
   "cell_type": "markdown",
   "id": "5ada3440",
   "metadata": {},
   "source": [
    "# OWN IMPLEMENTATION"
   ]
  },
  {
   "cell_type": "code",
   "execution_count": 39,
   "id": "65347f5a",
   "metadata": {},
   "outputs": [
    {
     "data": {
      "text/html": [
       "<div>\n",
       "<style scoped>\n",
       "    .dataframe tbody tr th:only-of-type {\n",
       "        vertical-align: middle;\n",
       "    }\n",
       "\n",
       "    .dataframe tbody tr th {\n",
       "        vertical-align: top;\n",
       "    }\n",
       "\n",
       "    .dataframe thead th {\n",
       "        text-align: right;\n",
       "    }\n",
       "</style>\n",
       "<table border=\"1\" class=\"dataframe\">\n",
       "  <thead>\n",
       "    <tr style=\"text-align: right;\">\n",
       "      <th></th>\n",
       "      <th>Employee_Name</th>\n",
       "      <th>Salary</th>\n",
       "      <th>Position</th>\n",
       "      <th>Sex</th>\n",
       "      <th>MaritalDesc</th>\n",
       "      <th>DateofHire</th>\n",
       "      <th>DateofTermination</th>\n",
       "      <th>TermReason</th>\n",
       "      <th>EmploymentStatus</th>\n",
       "      <th>Department</th>\n",
       "      <th>RecruitmentSource</th>\n",
       "      <th>PerformanceScore</th>\n",
       "      <th>EmpSatisfaction</th>\n",
       "      <th>DaysLateLast30</th>\n",
       "    </tr>\n",
       "  </thead>\n",
       "  <tbody>\n",
       "    <tr>\n",
       "      <th>0</th>\n",
       "      <td>Adinolfi, Wilson  K</td>\n",
       "      <td>62506</td>\n",
       "      <td>Production Technician I</td>\n",
       "      <td>M</td>\n",
       "      <td>Single</td>\n",
       "      <td>2011-07-05</td>\n",
       "      <td>NaT</td>\n",
       "      <td>N/A-StillEmployed</td>\n",
       "      <td>Active</td>\n",
       "      <td>Production</td>\n",
       "      <td>LinkedIn</td>\n",
       "      <td>4</td>\n",
       "      <td>5</td>\n",
       "      <td>0</td>\n",
       "    </tr>\n",
       "    <tr>\n",
       "      <th>1</th>\n",
       "      <td>Ait Sidi, Karthikeyan</td>\n",
       "      <td>104437</td>\n",
       "      <td>Sr. DBA</td>\n",
       "      <td>M</td>\n",
       "      <td>Married</td>\n",
       "      <td>2015-03-30</td>\n",
       "      <td>2016-06-16</td>\n",
       "      <td>career change</td>\n",
       "      <td>Voluntarily Terminated</td>\n",
       "      <td>IT/IS</td>\n",
       "      <td>Indeed</td>\n",
       "      <td>3</td>\n",
       "      <td>3</td>\n",
       "      <td>0</td>\n",
       "    </tr>\n",
       "    <tr>\n",
       "      <th>2</th>\n",
       "      <td>Akinkuolie, Sarah</td>\n",
       "      <td>64955</td>\n",
       "      <td>Production Technician II</td>\n",
       "      <td>F</td>\n",
       "      <td>Married</td>\n",
       "      <td>2011-07-05</td>\n",
       "      <td>2012-09-24</td>\n",
       "      <td>hours</td>\n",
       "      <td>Voluntarily Terminated</td>\n",
       "      <td>Production</td>\n",
       "      <td>LinkedIn</td>\n",
       "      <td>3</td>\n",
       "      <td>3</td>\n",
       "      <td>0</td>\n",
       "    </tr>\n",
       "    <tr>\n",
       "      <th>3</th>\n",
       "      <td>Alagbe,Trina</td>\n",
       "      <td>64991</td>\n",
       "      <td>Production Technician I</td>\n",
       "      <td>F</td>\n",
       "      <td>Married</td>\n",
       "      <td>2008-01-07</td>\n",
       "      <td>NaT</td>\n",
       "      <td>N/A-StillEmployed</td>\n",
       "      <td>Active</td>\n",
       "      <td>Production</td>\n",
       "      <td>Indeed</td>\n",
       "      <td>3</td>\n",
       "      <td>5</td>\n",
       "      <td>0</td>\n",
       "    </tr>\n",
       "    <tr>\n",
       "      <th>4</th>\n",
       "      <td>Anderson, Carol</td>\n",
       "      <td>50825</td>\n",
       "      <td>Production Technician I</td>\n",
       "      <td>F</td>\n",
       "      <td>Divorced</td>\n",
       "      <td>2011-07-11</td>\n",
       "      <td>2016-09-06</td>\n",
       "      <td>return to school</td>\n",
       "      <td>Voluntarily Terminated</td>\n",
       "      <td>Production</td>\n",
       "      <td>Google Search</td>\n",
       "      <td>3</td>\n",
       "      <td>4</td>\n",
       "      <td>0</td>\n",
       "    </tr>\n",
       "    <tr>\n",
       "      <th>...</th>\n",
       "      <td>...</td>\n",
       "      <td>...</td>\n",
       "      <td>...</td>\n",
       "      <td>...</td>\n",
       "      <td>...</td>\n",
       "      <td>...</td>\n",
       "      <td>...</td>\n",
       "      <td>...</td>\n",
       "      <td>...</td>\n",
       "      <td>...</td>\n",
       "      <td>...</td>\n",
       "      <td>...</td>\n",
       "      <td>...</td>\n",
       "      <td>...</td>\n",
       "    </tr>\n",
       "    <tr>\n",
       "      <th>306</th>\n",
       "      <td>Woodson, Jason</td>\n",
       "      <td>65893</td>\n",
       "      <td>Production Technician II</td>\n",
       "      <td>M</td>\n",
       "      <td>Single</td>\n",
       "      <td>2014-07-07</td>\n",
       "      <td>NaT</td>\n",
       "      <td>N/A-StillEmployed</td>\n",
       "      <td>Active</td>\n",
       "      <td>Production</td>\n",
       "      <td>LinkedIn</td>\n",
       "      <td>3</td>\n",
       "      <td>4</td>\n",
       "      <td>0</td>\n",
       "    </tr>\n",
       "    <tr>\n",
       "      <th>307</th>\n",
       "      <td>Ybarra, Catherine</td>\n",
       "      <td>48513</td>\n",
       "      <td>Production Technician I</td>\n",
       "      <td>F</td>\n",
       "      <td>Single</td>\n",
       "      <td>2008-09-02</td>\n",
       "      <td>2015-09-29</td>\n",
       "      <td>Another position</td>\n",
       "      <td>Voluntarily Terminated</td>\n",
       "      <td>Production</td>\n",
       "      <td>Google Search</td>\n",
       "      <td>1</td>\n",
       "      <td>2</td>\n",
       "      <td>5</td>\n",
       "    </tr>\n",
       "    <tr>\n",
       "      <th>308</th>\n",
       "      <td>Zamora, Jennifer</td>\n",
       "      <td>220450</td>\n",
       "      <td>CIO</td>\n",
       "      <td>F</td>\n",
       "      <td>Single</td>\n",
       "      <td>2010-04-10</td>\n",
       "      <td>NaT</td>\n",
       "      <td>N/A-StillEmployed</td>\n",
       "      <td>Active</td>\n",
       "      <td>IT/IS</td>\n",
       "      <td>Employee Referral</td>\n",
       "      <td>4</td>\n",
       "      <td>5</td>\n",
       "      <td>0</td>\n",
       "    </tr>\n",
       "    <tr>\n",
       "      <th>309</th>\n",
       "      <td>Zhou, Julia</td>\n",
       "      <td>89292</td>\n",
       "      <td>Data Analyst</td>\n",
       "      <td>F</td>\n",
       "      <td>Single</td>\n",
       "      <td>2015-03-30</td>\n",
       "      <td>NaT</td>\n",
       "      <td>N/A-StillEmployed</td>\n",
       "      <td>Active</td>\n",
       "      <td>IT/IS</td>\n",
       "      <td>Employee Referral</td>\n",
       "      <td>3</td>\n",
       "      <td>3</td>\n",
       "      <td>0</td>\n",
       "    </tr>\n",
       "    <tr>\n",
       "      <th>310</th>\n",
       "      <td>Zima, Colleen</td>\n",
       "      <td>45046</td>\n",
       "      <td>Production Technician I</td>\n",
       "      <td>F</td>\n",
       "      <td>Widowed</td>\n",
       "      <td>2014-09-29</td>\n",
       "      <td>NaT</td>\n",
       "      <td>N/A-StillEmployed</td>\n",
       "      <td>Active</td>\n",
       "      <td>Production</td>\n",
       "      <td>LinkedIn</td>\n",
       "      <td>3</td>\n",
       "      <td>5</td>\n",
       "      <td>0</td>\n",
       "    </tr>\n",
       "  </tbody>\n",
       "</table>\n",
       "<p>311 rows × 14 columns</p>\n",
       "</div>"
      ],
      "text/plain": [
       "                Employee_Name  Salary                  Position Sex  \\\n",
       "0         Adinolfi, Wilson  K   62506   Production Technician I  M    \n",
       "1    Ait Sidi, Karthikeyan     104437                   Sr. DBA  M    \n",
       "2           Akinkuolie, Sarah   64955  Production Technician II   F   \n",
       "3                Alagbe,Trina   64991   Production Technician I   F   \n",
       "4            Anderson, Carol    50825   Production Technician I   F   \n",
       "..                        ...     ...                       ...  ..   \n",
       "306            Woodson, Jason   65893  Production Technician II  M    \n",
       "307        Ybarra, Catherine    48513   Production Technician I   F   \n",
       "308          Zamora, Jennifer  220450                       CIO   F   \n",
       "309               Zhou, Julia   89292              Data Analyst   F   \n",
       "310             Zima, Colleen   45046   Production Technician I   F   \n",
       "\n",
       "    MaritalDesc DateofHire DateofTermination         TermReason  \\\n",
       "0        Single 2011-07-05               NaT  N/A-StillEmployed   \n",
       "1       Married 2015-03-30        2016-06-16      career change   \n",
       "2       Married 2011-07-05        2012-09-24              hours   \n",
       "3       Married 2008-01-07               NaT  N/A-StillEmployed   \n",
       "4      Divorced 2011-07-11        2016-09-06   return to school   \n",
       "..          ...        ...               ...                ...   \n",
       "306      Single 2014-07-07               NaT  N/A-StillEmployed   \n",
       "307      Single 2008-09-02        2015-09-29   Another position   \n",
       "308      Single 2010-04-10               NaT  N/A-StillEmployed   \n",
       "309      Single 2015-03-30               NaT  N/A-StillEmployed   \n",
       "310     Widowed 2014-09-29               NaT  N/A-StillEmployed   \n",
       "\n",
       "           EmploymentStatus         Department  RecruitmentSource  \\\n",
       "0                    Active  Production                  LinkedIn   \n",
       "1    Voluntarily Terminated              IT/IS             Indeed   \n",
       "2    Voluntarily Terminated  Production                  LinkedIn   \n",
       "3                    Active  Production                    Indeed   \n",
       "4    Voluntarily Terminated  Production             Google Search   \n",
       "..                      ...                ...                ...   \n",
       "306                  Active  Production                  LinkedIn   \n",
       "307  Voluntarily Terminated  Production             Google Search   \n",
       "308                  Active              IT/IS  Employee Referral   \n",
       "309                  Active              IT/IS  Employee Referral   \n",
       "310                  Active  Production                  LinkedIn   \n",
       "\n",
       "     PerformanceScore  EmpSatisfaction  DaysLateLast30  \n",
       "0                   4                5               0  \n",
       "1                   3                3               0  \n",
       "2                   3                3               0  \n",
       "3                   3                5               0  \n",
       "4                   3                4               0  \n",
       "..                ...              ...             ...  \n",
       "306                 3                4               0  \n",
       "307                 1                2               5  \n",
       "308                 4                5               0  \n",
       "309                 3                3               0  \n",
       "310                 3                5               0  \n",
       "\n",
       "[311 rows x 14 columns]"
      ]
     },
     "execution_count": 39,
     "metadata": {},
     "output_type": "execute_result"
    }
   ],
   "source": [
    "df"
   ]
  },
  {
   "cell_type": "code",
   "execution_count": 61,
   "id": "aece0d73",
   "metadata": {},
   "outputs": [],
   "source": [
    "still = df[(df['TermReason'] == 'more money') | (df['TermReason'] == 'unhappy') | (df['TermReason'] == 'attendance')]"
   ]
  },
  {
   "cell_type": "code",
   "execution_count": 70,
   "id": "011093c9",
   "metadata": {
    "scrolled": true
   },
   "outputs": [
    {
     "data": {
      "text/html": [
       "<div>\n",
       "<style scoped>\n",
       "    .dataframe tbody tr th:only-of-type {\n",
       "        vertical-align: middle;\n",
       "    }\n",
       "\n",
       "    .dataframe tbody tr th {\n",
       "        vertical-align: top;\n",
       "    }\n",
       "\n",
       "    .dataframe thead th {\n",
       "        text-align: right;\n",
       "    }\n",
       "</style>\n",
       "<table border=\"1\" class=\"dataframe\">\n",
       "  <thead>\n",
       "    <tr style=\"text-align: right;\">\n",
       "      <th></th>\n",
       "      <th></th>\n",
       "      <th></th>\n",
       "      <th>terminated_quantity</th>\n",
       "    </tr>\n",
       "    <tr>\n",
       "      <th>TermReason</th>\n",
       "      <th>Department</th>\n",
       "      <th>Position</th>\n",
       "      <th></th>\n",
       "    </tr>\n",
       "  </thead>\n",
       "  <tbody>\n",
       "    <tr>\n",
       "      <th rowspan=\"4\" valign=\"top\">attendance</th>\n",
       "      <th rowspan=\"2\" valign=\"top\">Production</th>\n",
       "      <th>Production Manager</th>\n",
       "      <td>1</td>\n",
       "    </tr>\n",
       "    <tr>\n",
       "      <th>Production Technician I</th>\n",
       "      <td>4</td>\n",
       "    </tr>\n",
       "    <tr>\n",
       "      <th>Sales</th>\n",
       "      <th>Area Sales Manager</th>\n",
       "      <td>1</td>\n",
       "    </tr>\n",
       "    <tr>\n",
       "      <th>Software Engineering</th>\n",
       "      <th>Software Engineer</th>\n",
       "      <td>1</td>\n",
       "    </tr>\n",
       "    <tr>\n",
       "      <th rowspan=\"2\" valign=\"top\">more money</th>\n",
       "      <th rowspan=\"2\" valign=\"top\">Production</th>\n",
       "      <th>Production Technician I</th>\n",
       "      <td>7</td>\n",
       "    </tr>\n",
       "    <tr>\n",
       "      <th>Production Technician II</th>\n",
       "      <td>4</td>\n",
       "    </tr>\n",
       "    <tr>\n",
       "      <th rowspan=\"3\" valign=\"top\">unhappy</th>\n",
       "      <th rowspan=\"3\" valign=\"top\">Production</th>\n",
       "      <th>Production Manager</th>\n",
       "      <td>1</td>\n",
       "    </tr>\n",
       "    <tr>\n",
       "      <th>Production Technician I</th>\n",
       "      <td>7</td>\n",
       "    </tr>\n",
       "    <tr>\n",
       "      <th>Production Technician II</th>\n",
       "      <td>6</td>\n",
       "    </tr>\n",
       "  </tbody>\n",
       "</table>\n",
       "</div>"
      ],
      "text/plain": [
       "                                                          terminated_quantity\n",
       "TermReason Department           Position                                     \n",
       "attendance Production           Production Manager                          1\n",
       "                                Production Technician I                     4\n",
       "           Sales                Area Sales Manager                          1\n",
       "           Software Engineering Software Engineer                           1\n",
       "more money Production           Production Technician I                     7\n",
       "                                Production Technician II                    4\n",
       "unhappy    Production           Production Manager                          1\n",
       "                                Production Technician I                     7\n",
       "                                Production Technician II                    6"
      ]
     },
     "execution_count": 70,
     "metadata": {},
     "output_type": "execute_result"
    }
   ],
   "source": [
    "still.groupby(['TermReason','Department','Position']).agg(terminated_quantity=('Employee_Name','count'))"
   ]
  },
  {
   "cell_type": "markdown",
   "id": "ee2550aa",
   "metadata": {},
   "source": [
    "<span style=\"color:black\">\n",
    "    FEEDBACK\n",
    "<br>\n",
    "    <span style=\"color:green\"> (5 /10p) <br><span style=\"color:black\">1. Preparing the Dataset \n",
    "    <br>\n",
    "    Have not checked for the duplicate records, have not deal with the missing values in \"DateofTermination\" (but checked it)\n",
    "    <br> <br>\n",
    "    <span style=\"color:green\"> (18 /20p) <br><span style=\"color:black\">2. Manipulating and analyzing the data \n",
    "    <br>\n",
    "    Task 1-5. Good job overall! But titles are missing for all plots\n",
    "    <br><br>\n",
    "    <span style=\"color:green\"> (10 /10p) <br><span style=\"color:black\">3. Presenting the project and answering questions\n",
    "    <br>\n",
    "    Good job!\n",
    "    <br><br>\n",
    "<span style=\"color:green\">\n",
    "    Well done!<br>\n",
    "    FINAL GRADE: 33/40\n",
    "</span>"
   ]
  },
  {
   "cell_type": "code",
   "execution_count": null,
   "id": "dbf22f93",
   "metadata": {},
   "outputs": [],
   "source": []
  }
 ],
 "metadata": {
  "kernelspec": {
   "display_name": "Python 3 (ipykernel)",
   "language": "python",
   "name": "python3"
  },
  "language_info": {
   "codemirror_mode": {
    "name": "ipython",
    "version": 3
   },
   "file_extension": ".py",
   "mimetype": "text/x-python",
   "name": "python",
   "nbconvert_exporter": "python",
   "pygments_lexer": "ipython3",
   "version": "3.9.7"
  }
 },
 "nbformat": 4,
 "nbformat_minor": 5
}
